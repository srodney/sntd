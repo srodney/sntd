{
 "cells": [
  {
   "cell_type": "code",
   "execution_count": 1,
   "metadata": {
    "collapsed": true
   },
   "outputs": [],
   "source": [
    "%load_ext autoreload\n",
    "%autoreload 2"
   ]
  },
  {
   "cell_type": "code",
   "execution_count": 2,
   "metadata": {
    "collapsed": true
   },
   "outputs": [],
   "source": [
    "%matplotlib inline"
   ]
  },
  {
   "cell_type": "code",
   "execution_count": 3,
   "metadata": {
    "collapsed": true
   },
   "outputs": [],
   "source": [
    "#from matplotlib import pyplot as plt\n",
    "#import sncosmo\n",
    "from sntd import plotting, io, simulation, fitting"
   ]
  },
  {
   "cell_type": "code",
   "execution_count": 4,
   "metadata": {},
   "outputs": [
    {
     "name": "stdout",
     "output_type": "stream",
     "text": [
      "Simulated strongly lensed SN \n",
      "\n"
     ]
    }
   ],
   "source": [
    "# Test 1 : simulate a doubly-imaged Type Ib SN and fit for time delays\n",
    "modname = 'snana-2004gv'\n",
    "snType = 'Ib'\n",
    "lcs = simulation.createMultiplyImagedSN(\n",
    "    modname, snType, .1, bands=['bessellb', 'bessellv', 'bessellr'],\n",
    "    zp=27., cadence=5., epochs=15., mjdRange=[0,100.], time_delays=[0., 15.],\n",
    "    magnifications=[1.,5.], objectName='Test', telescopename='HST',\n",
    "    microlensing=False)\n",
    "ifig = 0\n",
    "print(\"Simulated strongly lensed SN \\n\")"
   ]
  },
  {
   "cell_type": "code",
   "execution_count": 6,
   "metadata": {},
   "outputs": [
    {
     "data": {
      "image/png": "[encoded data removed]",
      "text/plain": [
       "<matplotlib.figure.Figure at 0x1238bb9b0>"
      ]
     },
     "metadata": {},
     "output_type": "display_data"
    },
    {
     "name": "stdout",
     "output_type": "stream",
     "text": [
      "image S1 t0=25.0\n",
      "image S2 t0=40.0\n"
     ]
    }
   ],
   "source": [
    "lcs.plot_lightcurve(bands=['bessellb', 'bessellv', 'bessellr'],\n",
    "                    showmodel='sim', showfig=True)\n",
    "for k in lcs.images.keys():\n",
    "    print(\"image {} t0={}\".format(k, lcs.images[k].simMeta['t0']))"
   ]
  },
  {
   "cell_type": "code",
   "execution_count": null,
   "metadata": {},
   "outputs": [],
   "source": [
    "lcs_tdfit=fitting.fit_data(lcs, snType='Ib', models=['snana-2004gv'],\n",
    "                            params=['amplitude','t0'],\n",
    "                            combined_or_separate='separate',\n",
    "                            method='minuit')"
   ]
  },
  {
   "cell_type": "code",
   "execution_count": null,
   "metadata": {},
   "outputs": [],
   "source": [
    "# TODO: make this more general, i.e. use keywords list instead of s1 and s2.\n",
    "t0_s1 = lcs_tdfit.images['S1'].fits.model.get('t0')\n",
    "t0_s2 = lcs_tdfit.images['S2'].fits.model.get('t0')\n",
    "A_s1 = lcs_tdfit.images['S1'].fits.model.get('amplitude')\n",
    "A_s2 = lcs_tdfit.images['S2'].fits.model.get('amplitude')\n",
    "lcs_combined = lcs.combine_curves(tds={'S1':1,'S2':t0_s2-t0_s1},\n",
    "                                  mus={'S1':1,'S2':A_s2/A_s1})"
   ]
  },
  {
   "cell_type": "code",
   "execution_count": null,
   "metadata": {},
   "outputs": [],
   "source": [
    "lcs.plot_lightcurve(bands=['bessellb', 'bessellv', 'bessellr'],\n",
    "                    combined=True, showmodel='fit', showfig=True)"
   ]
  },
  {
   "cell_type": "code",
   "execution_count": null,
   "metadata": {
    "collapsed": true
   },
   "outputs": [],
   "source": []
  }
 ],
 "metadata": {
  "kernelspec": {
   "display_name": "Python 3",
   "language": "python",
   "name": "python3"
  },
  "language_info": {
   "codemirror_mode": {
    "name": "ipython",
    "version": 3
   },
   "file_extension": ".py",
   "mimetype": "text/x-python",
   "name": "python",
   "nbconvert_exporter": "python",
   "pygments_lexer": "ipython3",
   "version": "3.6.2"
  }
 },
 "nbformat": 4,
 "nbformat_minor": 2
}
