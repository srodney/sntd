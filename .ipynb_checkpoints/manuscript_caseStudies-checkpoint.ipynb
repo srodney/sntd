{
 "cells": [
  {
   "cell_type": "code",
   "execution_count": null,
   "metadata": {
    "collapsed": true
   },
   "outputs": [],
   "source": [
    "from matplotlib import pyplot as plt\n",
    "import sncosmo\n",
    "from sntd import simulation, fitting,io\n",
    "from sntd.plotting import _COLORLIST5\n",
    "import sys\n",
    "import numpy as np"
   ]
  },
  {
   "cell_type": "code",
   "execution_count": null,
   "metadata": {
    "collapsed": true
   },
   "outputs": [],
   "source": [
    "reload(fitting) \n",
    "reload(simulation) \n",
    "nsim = 20\n",
    "dt_fit_list = [] \n",
    "murel_fit_list = [] \n",
    "\n",
    "for isim in range(nsim):\n",
    "\n",
    "    # Part 1 : simulate a doubly-imaged Type Ib SN and fit for time delays\n",
    "    modname = 'snana-2004gv'\n",
    "    snType = 'Ib'\n",
    "    #bandlist = ['bessellb', 'bessellv', 'bessellr']\n",
    "    bandlist = ['F125W']\n",
    "    lcs = simulation.createMultiplyImagedSN(\n",
    "        modname, snType, 1.33,z_lens=.5, bands=bandlist,\n",
    "        zp=27., cadence=10., epochs=5.,skynoiseRange=(.1,2), mjdRange=[0,100.], time_delays=[0., 15.],\n",
    "        magnifications=np.random.uniform(5,10,2), objectName='Test'+snType, telescopename='HST',\n",
    "        z_lens=0.5, microlensing_type='AchromaticSplineMicrolensing',\n",
    "        microlensing_params=[4,2,50],minsnr=5.0)\n",
    "    print(lcs.images['S1'].simMeta)\n",
    "    ifig = 0\n",
    "    print(\"Simulated strongly lensed SN %i\"%isim)\n",
    "    #lcs.plot_object(showfig=True,savefig=False)\n",
    "\n",
    "    # Part 2: fit each light curve separately to determine lensing parameters\n",
    "    lcs_tdfit=fitting.fit_data(lcs, snType='Ib', models=['snana-2004gv'],dust='CCM89Dust',effect_frames=['rest'],\n",
    "                                effect_names=['host'],\n",
    "                                params=['z','amplitude','t0','hostebv'],\n",
    "                                bounds={'hostebv':(0,1),'z':(1.28,1.32),'t0':(-10,10)},\n",
    "                                combined_or_separate='separate',\n",
    "                                method='minuit')\n",
    "\n",
    "\n",
    "\n",
    "    # TODO: make this more general, i.e. use keywords list instead of s1 and s2.\n",
    "    #t0_s1 = lcs_tdfit.images['S1'].fits.model.get('t0')\n",
    "    #t0_s2 = lcs_tdfit.images['S2'].fits.model.get('t0')\n",
    "    print(np.abs(lcs_tdfit.time_delays['S2']))\n",
    "    #A_s1 = lcs_tdfit.images['S1'].fits.model.get('amplitude')\n",
    "    #A_s2 = lcs_tdfit.images['S2'].fits.model.get('amplitude')\n",
    "    dt_fit_list.append(np.abs(lcs_tdfit.time_delays['S2']))\n",
    "    murel_fit_list.append(A_s2/A_s1)\n",
    "    #plt.plot(dt_fit_list, murel_fit_list,marker='o', color=_COLORLIST5[3], ls=' ')\n",
    "fig=plt.figure(figsize=(20,10)) \n",
    "ax=fig.gca() \n",
    "ax.hist(dt_fit_list, bins=nsim/5, normed=True,label='Measured Time Delay')\n",
    "\n",
    "ax.plot([15,15],ax.get_ylim(),'r--',label='Actual Time Delay') \n",
    "ax.legend(loc='upper left',fontsize=16) \n",
    "ax.set_title('Type Ib Doubly-Imaged Time Delay Measurement--N=100',size=24) \n",
    "ax.set_ylabel('Probability Density',size=20) \n",
    "ax.set_xlabel('Relative Time Delay (Days)',size=20) \n",
    "ax.tick_params(axis='x', labelsize=14)\n",
    "ax.tick_params(axis='y', labelsize=14)\n",
    "\n",
    "plt.show()\n",
    "plt.close()"
   ]
  }
 ],
 "metadata": {
  "kernelspec": {
   "display_name": "Python 2",
   "language": "python",
   "name": "python2"
  },
  "language_info": {
   "codemirror_mode": {
    "name": "ipython",
    "version": 2
   },
   "file_extension": ".py",
   "mimetype": "text/x-python",
   "name": "python",
   "nbconvert_exporter": "python",
   "pygments_lexer": "ipython2",
   "version": "2.7.13"
  }
 },
 "nbformat": 4,
 "nbformat_minor": 2
}
