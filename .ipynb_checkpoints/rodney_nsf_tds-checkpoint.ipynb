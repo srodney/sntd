{
 "cells": [
  {
   "cell_type": "code",
   "execution_count": 38,
   "metadata": {
    "collapsed": true
   },
   "outputs": [],
   "source": [
    "from matplotlib import pyplot as plt\n",
    "import sncosmo\n",
    "from sntd import simulation, fitting,io\n",
    "from sntd.plotting import _COLORLIST5\n",
    "import sys\n",
    "import numpy as np\n"
   ]
  },
  {
   "cell_type": "markdown",
   "metadata": {},
   "source": [
    "reload(fitting)\n",
    "reload(simulation)\n",
    "nsim = 10\n",
    "dt_fit_list = []\n",
    "murel_fit_list = []\n",
    "for isim in range(nsim):\n",
    "    # Part 1 : simulate a doubly-imaged Type Ib SN and fit for time delays\n",
    "    modname = 'snana-2004gv'\n",
    "    snType = 'Ib'\n",
    "    #bandlist = ['bessellb', 'bessellv', 'bessellr']\n",
    "    bandlist = ['F125W']\n",
    "    lcs = simulation.createMultiplyImagedSN(\n",
    "        modname, snType, 1.3, bands=bandlist,\n",
    "        zp=30., cadence=2., epochs=25., mjdRange=[0,100.], time_delays=[0., 15.],\n",
    "        magnifications=[10.,20.], objectName='Test'+snType, telescopename='HST',\n",
    "        z_lens=0.5, microlensing_type='AchromaticSplineMicrolensing',\n",
    "        microlensing_params=[4,2,25])\n",
    "    ifig = 0\n",
    "    print(\"Simulated strongly lensed SN %i\"%isim)\n",
    "    #lcs.plot_object(showfig=True,savefig=False)\n",
    "    \n",
    "    # Part 2: fit each light curve separately to determine lensing parameters\n",
    "    lcs_tdfit=fitting.fit_data(lcs, snType='Ib', models=['snana-2004gv'],\n",
    "                                params=['z','amplitude','t0'],bounds={'z':(1.25,1.35),'t0':(-5,5)},\n",
    "                                combined_or_separate='separate',\n",
    "                                method='minuit')\n",
    "\n",
    "\n",
    "\n",
    "    # TODO: make this more general, i.e. use keywords list instead of s1 and s2.\n",
    "    #t0_s1 = lcs_tdfit.images['S1'].fits.model.get('t0')\n",
    "    #t0_s2 = lcs_tdfit.images['S2'].fits.model.get('t0')\n",
    "    #print(t0_s2-t0_s1,lcs.images['S2'].simMeta['td'])\n",
    "    #A_s1 = lcs_tdfit.images['S1'].fits.model.get('amplitude')\n",
    "    #A_s2 = lcs_tdfit.images['S2'].fits.model.get('amplitude')\n",
    "    dt_fit_list.append(np.abs(lcs_tdfit.time_delays['S2']))\n",
    "    murel_fit_list.append(A_s2/A_s1)\n",
    "\n",
    "#plt.plot(dt_fit_list, murel_fit_list,\n",
    "#         marker='o', color=_COLORLIST5[3], ls=' ')\n",
    "fig=plt.figure()\n",
    "ax=fig.gca()\n",
    "ax.hist(dt_fit_list, bins=nsim/5, density=True,label='Measured Time Delay')\n",
    "\n",
    "ax.plot([15,15],ax.get_ylim(),'r--','Actual Time Delay')\n",
    "ax.legend(loc='upper left')\n",
    "ax.set_title('Type Ib Doubly-Imaged Time Delay Measurement--N=100',size=18)\n",
    "ax.set_ylabel('Probability Density')\n",
    "ax.set_ylabel('Relative Time Delay (Days)')\n",
    "plt.show()\n"
   ]
  },
  {
   "cell_type": "code",
   "execution_count": null,
   "metadata": {
    "collapsed": true
   },
   "outputs": [],
   "source": []
  }
 ],
 "metadata": {
  "kernelspec": {
   "display_name": "Python 2",
   "language": "python",
   "name": "python2"
  },
  "language_info": {
   "codemirror_mode": {
    "name": "ipython",
    "version": 2
   },
   "file_extension": ".py",
   "mimetype": "text/x-python",
   "name": "python",
   "nbconvert_exporter": "python",
   "pygments_lexer": "ipython2",
   "version": "2.7.13"
  }
 },
 "nbformat": 4,
 "nbformat_minor": 2
}
