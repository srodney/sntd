import glob,os
from sntd import models,fitting,io

photometry='dolphot'

if photometry=='dolphot':
    files=glob.glob(os.path.join(photometry,'stringent','*.dat'))
elif photometry=='hstphot':
    files=glob.glob(os.path.join(photometry,'*.dat'))
else:
    raise RuntimeError("Photometry not recognized.")

